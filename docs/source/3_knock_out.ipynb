{
 "cells": [
  {
   "cell_type": "markdown",
   "id": "26bb7b23-881e-472a-94ed-e5bbae211194",
   "metadata": {},
   "source": [
    "# 3. Performing virtual knock-out on the data"
   ]
  },
  {
   "cell_type": "code",
   "execution_count": null,
   "id": "ff4da64f-9a36-4491-8007-5f25bd53e5ad",
   "metadata": {},
   "outputs": [],
   "source": [
    "from pathlib import Path\n",
    "import sys\n",
    "sys.path.append(str(Path(\"../../\").resolve()))\n",
    "import scTenifold as st\n",
    "from scTenifold.data import get_test_df"
   ]
  },
  {
   "cell_type": "code",
   "execution_count": 2,
   "id": "90674e77-0662-46df-a6cf-e8771c8b964b",
   "metadata": {},
   "outputs": [],
   "source": [
    "df = get_test_df(100, 100)"
   ]
  },
  {
   "cell_type": "code",
   "execution_count": 4,
   "id": "5674b7ff-1d17-4373-b1f5-fa1c52dad268",
   "metadata": {},
   "outputs": [],
   "source": [
    "knk = st.scTenifoldKnk(data=df,\n",
    "                    ko_genes=[\"NG-1\"],  # the gene you wants to knock out\n",
    "                    qc_kws={\"min_lib_size\": 10, \"min_PCT\": 0.001})"
   ]
  },
  {
   "cell_type": "markdown",
   "id": "1bcd0aeb-20c1-4ab2-a8db-ec2076785b73",
   "metadata": {},
   "source": [
    "### The quickest way to run scTenifoldKnk is to use build() method</br>\n",
    "#### Just like scTenifoldNet, this method will use all kws inside the instance to run scTenifold pipeline (qc_kws, nc_kws, ko_kws, td_kws, ma_kws, dr_kws)"
   ]
  },
  {
   "cell_type": "code",
   "execution_count": null,
   "id": "fd92aa2c-776f-44cb-a931-12796f732e79",
   "metadata": {},
   "outputs": [],
   "source": [
    "knk.build()"
   ]
  },
  {
   "cell_type": "code",
   "execution_count": null,
   "id": "3cf48598-456f-4c77-bcf4-6eabb2077253",
   "metadata": {},
   "outputs": [],
   "source": []
  }
 ],
 "metadata": {
  "kernelspec": {
   "display_name": "Python 3 (ipykernel)",
   "language": "python",
   "name": "python3"
  },
  "language_info": {
   "codemirror_mode": {
    "name": "ipython",
    "version": 3
   },
   "file_extension": ".py",
   "mimetype": "text/x-python",
   "name": "python",
   "nbconvert_exporter": "python",
   "pygments_lexer": "ipython3",
   "version": "3.7.2"
  }
 },
 "nbformat": 4,
 "nbformat_minor": 5
}
