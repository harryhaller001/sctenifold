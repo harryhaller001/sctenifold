{
 "cells": [
  {
   "cell_type": "markdown",
   "id": "2dfe8830-7896-41da-8452-7dcf71fcf611",
   "metadata": {},
   "source": [
    "# Run the scTenifoldNet pipeline"
   ]
  },
  {
   "cell_type": "code",
   "execution_count": 3,
   "id": "a6ca0719-4f74-4b2d-9b7e-6b65b2c86704",
   "metadata": {},
   "outputs": [],
   "source": [
    "from pathlib import Path\n",
    "import sys\n",
    "sys.path.append(str(Path(\"../../\").resolve()))\n",
    "import scTenifold as st\n",
    "from scTenifold.data import get_test_df"
   ]
  },
  {
   "cell_type": "code",
   "execution_count": 4,
   "id": "2346c105-e537-4d4d-8134-ffbc670683ed",
   "metadata": {},
   "outputs": [],
   "source": [
    "x_df, y_df = get_test_df(), get_test_df()"
   ]
  },
  {
   "cell_type": "code",
   "execution_count": 6,
   "id": "50479c42-4b62-4aa9-9d6d-fe261fb04fd9",
   "metadata": {},
   "outputs": [],
   "source": [
    "net = st.scTenifoldNet(x_df, y_df, \"X\", \"Y\",\n",
    "                       qc_kws={\"min_lib_size\": 10})"
   ]
  },
  {
   "cell_type": "markdown",
   "id": "48788488-de90-4d39-9eb2-7183edb4c7b5",
   "metadata": {},
   "source": [
    "**The quickest way to run scTenifoldNet is to use build() method** </br>\n",
    "This method will use all kws inside the instance to run scTenifold pipeline (qc_kws, nc_kws, td_kws, ma_kws, dr_kws)"
   ]
  },
  {
   "cell_type": "code",
   "execution_count": null,
   "id": "29dcb73f-b568-4157-844c-9e4401e7ee85",
   "metadata": {},
   "outputs": [],
   "source": [
    "net.build()"
   ]
  },
  {
   "cell_type": "markdown",
   "id": "c9186953-99c5-483c-8296-a4c70287bbe9",
   "metadata": {},
   "source": [
    "To check the generated results"
   ]
  },
  {
   "cell_type": "code",
   "execution_count": null,
   "id": "3b078704-a15a-4f63-9835-171704e1000c",
   "metadata": {},
   "outputs": [],
   "source": [
    "net.network_dict[\"X\"]"
   ]
  }
 ],
 "metadata": {
  "kernelspec": {
   "display_name": "Python 3 (ipykernel)",
   "language": "python",
   "name": "python3"
  },
  "language_info": {
   "codemirror_mode": {
    "name": "ipython",
    "version": 3
   },
   "file_extension": ".py",
   "mimetype": "text/x-python",
   "name": "python",
   "nbconvert_exporter": "python",
   "pygments_lexer": "ipython3",
   "version": "3.8.11"
  }
 },
 "nbformat": 4,
 "nbformat_minor": 5
}
