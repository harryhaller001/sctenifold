{
 "cells": [
  {
   "cell_type": "markdown",
   "id": "2dfe8830-7896-41da-8452-7dcf71fcf611",
   "metadata": {},
   "source": [
    "# 2. Run the scTenifoldNet pipeline"
   ]
  },
  {
   "cell_type": "code",
   "execution_count": 3,
   "id": "a6ca0719-4f74-4b2d-9b7e-6b65b2c86704",
   "metadata": {},
   "outputs": [],
   "source": [
    "from pathlib import Path\n",
    "import sys\n",
    "sys.path.append(str(Path(\"../../\").resolve()))\n",
    "import scTenifold as st\n",
    "from scTenifold.data import get_test_df"
   ]
  },
  {
   "cell_type": "code",
   "execution_count": 4,
   "id": "2346c105-e537-4d4d-8134-ffbc670683ed",
   "metadata": {},
   "outputs": [],
   "source": [
    "x_df, y_df = get_test_df(100, 100), get_test_df(100, 100)"
   ]
  },
  {
   "cell_type": "code",
   "execution_count": 5,
   "id": "50479c42-4b62-4aa9-9d6d-fe261fb04fd9",
   "metadata": {},
   "outputs": [],
   "source": [
    "net = st.scTenifoldNet(x_df, y_df, \"X\", \"Y\",\n",
    "                       qc_kws={\"min_lib_size\": 10})"
   ]
  },
  {
   "cell_type": "markdown",
   "id": "48788488-de90-4d39-9eb2-7183edb4c7b5",
   "metadata": {},
   "source": [
    "### The quickest way to run scTenifoldNet is to use build() method</br>\n",
    "#### This method will use all kws inside the instance to run scTenifold pipeline (qc_kws, nc_kws, td_kws, ma_kws, dr_kws)"
   ]
  },
  {
   "cell_type": "code",
   "execution_count": null,
   "id": "5251e079-e1d7-4550-a727-e43341922d42",
   "metadata": {},
   "outputs": [],
   "source": [
    "net.build()"
   ]
  },
  {
   "cell_type": "markdown",
   "id": "2fc3c8d1-ac2d-4221-b100-0367008704be",
   "metadata": {},
   "source": [
    "### Run step separately"
   ]
  },
  {
   "cell_type": "code",
   "execution_count": 6,
   "id": "a2c3a3c3-5ba4-4983-ae82-d2f041af7dbb",
   "metadata": {
    "tags": []
   },
   "outputs": [
    {
     "name": "stdout",
     "output_type": "stream",
     "text": [
      "Removed 0 cells with lib size < 10\n",
      "Removed 2 outlier cells from original data\n",
      "Found mitochondrial genes: ['MT-1', 'MT-10', 'MT-2', 'MT-3', 'MT-4', 'MT-5', 'MT-6', 'MT-7', 'MT-8', 'MT-9']\n",
      "Removed 48 samples from original data (mt genes ratio > 0.1)\n",
      "Removed 0 genes expressed in less than 0.05 of data\n",
      "Removed 0 genes with expression values: average < 0 or sum < 0\n"
     ]
    },
    {
     "data": {
      "image/png": "[encoded data removed]",
      "text/plain": [
       "<Figure size 720x576 with 1 Axes>"
      ]
     },
     "metadata": {
      "needs_background": "light"
     },
     "output_type": "display_data"
    },
    {
     "name": "stdout",
     "output_type": "stream",
     "text": [
      "finish QC: X\n",
      "Removed 0 cells with lib size < 10\n",
      "Removed 0 outlier cells from original data\n",
      "Found mitochondrial genes: ['MT-1', 'MT-10', 'MT-2', 'MT-3', 'MT-4', 'MT-5', 'MT-6', 'MT-7', 'MT-8', 'MT-9']\n",
      "Removed 45 samples from original data (mt genes ratio > 0.1)\n",
      "Removed 0 genes expressed in less than 0.05 of data\n",
      "Removed 0 genes with expression values: average < 0 or sum < 0\n"
     ]
    },
    {
     "data": {
      "image/png": "[encoded data removed]",
      "text/plain": [
       "<Figure size 720x576 with 1 Axes>"
      ]
     },
     "metadata": {
      "needs_background": "light"
     },
     "output_type": "display_data"
    },
    {
     "name": "stdout",
     "output_type": "stream",
     "text": [
      "finish QC: Y\n",
      "process qc finished in 0.4155342040000001 secs.\n"
     ]
    }
   ],
   "source": [
    "net.run_step(\"qc\")"
   ]
  },
  {
   "cell_type": "code",
   "execution_count": 7,
   "id": "6117d3ed-ffea-4aaf-a3f4-b65fb9af0c6a",
   "metadata": {
    "tags": []
   },
   "outputs": [
    {
     "data": {
      "text/html": [
       "<div>\n",
       "<style scoped>\n",
       "    .dataframe tbody tr th:only-of-type {\n",
       "        vertical-align: middle;\n",
       "    }\n",
       "\n",
       "    .dataframe tbody tr th {\n",
       "        vertical-align: top;\n",
       "    }\n",
       "\n",
       "    .dataframe thead th {\n",
       "        text-align: right;\n",
       "    }\n",
       "</style>\n",
       "<table border=\"1\" class=\"dataframe\">\n",
       "  <thead>\n",
       "    <tr style=\"text-align: right;\">\n",
       "      <th></th>\n",
       "      <th>Cell-4</th>\n",
       "      <th>Cell-7</th>\n",
       "      <th>Cell-8</th>\n",
       "      <th>Cell-12</th>\n",
       "      <th>Cell-15</th>\n",
       "      <th>Cell-17</th>\n",
       "      <th>Cell-20</th>\n",
       "      <th>Cell-21</th>\n",
       "      <th>Cell-26</th>\n",
       "      <th>Cell-35</th>\n",
       "      <th>...</th>\n",
       "      <th>Cell-87</th>\n",
       "      <th>Cell-90</th>\n",
       "      <th>Cell-91</th>\n",
       "      <th>Cell-93</th>\n",
       "      <th>Cell-94</th>\n",
       "      <th>Cell-96</th>\n",
       "      <th>Cell-97</th>\n",
       "      <th>Cell-98</th>\n",
       "      <th>Cell-99</th>\n",
       "      <th>Cell-100</th>\n",
       "    </tr>\n",
       "    <tr>\n",
       "      <th>gene</th>\n",
       "      <th></th>\n",
       "      <th></th>\n",
       "      <th></th>\n",
       "      <th></th>\n",
       "      <th></th>\n",
       "      <th></th>\n",
       "      <th></th>\n",
       "      <th></th>\n",
       "      <th></th>\n",
       "      <th></th>\n",
       "      <th></th>\n",
       "      <th></th>\n",
       "      <th></th>\n",
       "      <th></th>\n",
       "      <th></th>\n",
       "      <th></th>\n",
       "      <th></th>\n",
       "      <th></th>\n",
       "      <th></th>\n",
       "      <th></th>\n",
       "      <th></th>\n",
       "    </tr>\n",
       "  </thead>\n",
       "  <tbody>\n",
       "    <tr>\n",
       "      <th>MT-1</th>\n",
       "      <td>0.0</td>\n",
       "      <td>0.000000</td>\n",
       "      <td>21739.130435</td>\n",
       "      <td>0.000000</td>\n",
       "      <td>0.000000</td>\n",
       "      <td>0.000000</td>\n",
       "      <td>0.000000</td>\n",
       "      <td>0.000000</td>\n",
       "      <td>0.000000</td>\n",
       "      <td>0.000000</td>\n",
       "      <td>...</td>\n",
       "      <td>0.0</td>\n",
       "      <td>0.0</td>\n",
       "      <td>0.0</td>\n",
       "      <td>0.000000</td>\n",
       "      <td>0.000000</td>\n",
       "      <td>0.000000</td>\n",
       "      <td>51282.051282</td>\n",
       "      <td>0.000000</td>\n",
       "      <td>0.000000</td>\n",
       "      <td>0.000000</td>\n",
       "    </tr>\n",
       "    <tr>\n",
       "      <th>MT-10</th>\n",
       "      <td>0.0</td>\n",
       "      <td>0.000000</td>\n",
       "      <td>0.000000</td>\n",
       "      <td>41666.666667</td>\n",
       "      <td>23255.813953</td>\n",
       "      <td>63829.787234</td>\n",
       "      <td>0.000000</td>\n",
       "      <td>0.000000</td>\n",
       "      <td>0.000000</td>\n",
       "      <td>0.000000</td>\n",
       "      <td>...</td>\n",
       "      <td>0.0</td>\n",
       "      <td>25000.0</td>\n",
       "      <td>0.0</td>\n",
       "      <td>0.000000</td>\n",
       "      <td>0.000000</td>\n",
       "      <td>0.000000</td>\n",
       "      <td>0.000000</td>\n",
       "      <td>0.000000</td>\n",
       "      <td>45454.545455</td>\n",
       "      <td>0.000000</td>\n",
       "    </tr>\n",
       "    <tr>\n",
       "      <th>MT-2</th>\n",
       "      <td>0.0</td>\n",
       "      <td>0.000000</td>\n",
       "      <td>0.000000</td>\n",
       "      <td>0.000000</td>\n",
       "      <td>0.000000</td>\n",
       "      <td>0.000000</td>\n",
       "      <td>0.000000</td>\n",
       "      <td>0.000000</td>\n",
       "      <td>0.000000</td>\n",
       "      <td>0.000000</td>\n",
       "      <td>...</td>\n",
       "      <td>0.0</td>\n",
       "      <td>0.0</td>\n",
       "      <td>0.0</td>\n",
       "      <td>0.000000</td>\n",
       "      <td>0.000000</td>\n",
       "      <td>0.000000</td>\n",
       "      <td>0.000000</td>\n",
       "      <td>0.000000</td>\n",
       "      <td>0.000000</td>\n",
       "      <td>0.000000</td>\n",
       "    </tr>\n",
       "    <tr>\n",
       "      <th>MT-3</th>\n",
       "      <td>0.0</td>\n",
       "      <td>0.000000</td>\n",
       "      <td>43478.260870</td>\n",
       "      <td>0.000000</td>\n",
       "      <td>0.000000</td>\n",
       "      <td>0.000000</td>\n",
       "      <td>40816.326531</td>\n",
       "      <td>24390.243902</td>\n",
       "      <td>0.000000</td>\n",
       "      <td>37735.849057</td>\n",
       "      <td>...</td>\n",
       "      <td>0.0</td>\n",
       "      <td>0.0</td>\n",
       "      <td>0.0</td>\n",
       "      <td>0.000000</td>\n",
       "      <td>0.000000</td>\n",
       "      <td>0.000000</td>\n",
       "      <td>25641.025641</td>\n",
       "      <td>0.000000</td>\n",
       "      <td>0.000000</td>\n",
       "      <td>0.000000</td>\n",
       "    </tr>\n",
       "    <tr>\n",
       "      <th>MT-4</th>\n",
       "      <td>0.0</td>\n",
       "      <td>0.000000</td>\n",
       "      <td>0.000000</td>\n",
       "      <td>0.000000</td>\n",
       "      <td>0.000000</td>\n",
       "      <td>0.000000</td>\n",
       "      <td>0.000000</td>\n",
       "      <td>0.000000</td>\n",
       "      <td>0.000000</td>\n",
       "      <td>18867.924528</td>\n",
       "      <td>...</td>\n",
       "      <td>0.0</td>\n",
       "      <td>0.0</td>\n",
       "      <td>0.0</td>\n",
       "      <td>0.000000</td>\n",
       "      <td>46511.627907</td>\n",
       "      <td>0.000000</td>\n",
       "      <td>0.000000</td>\n",
       "      <td>0.000000</td>\n",
       "      <td>22727.272727</td>\n",
       "      <td>0.000000</td>\n",
       "    </tr>\n",
       "    <tr>\n",
       "      <th>...</th>\n",
       "      <td>...</td>\n",
       "      <td>...</td>\n",
       "      <td>...</td>\n",
       "      <td>...</td>\n",
       "      <td>...</td>\n",
       "      <td>...</td>\n",
       "      <td>...</td>\n",
       "      <td>...</td>\n",
       "      <td>...</td>\n",
       "      <td>...</td>\n",
       "      <td>...</td>\n",
       "      <td>...</td>\n",
       "      <td>...</td>\n",
       "      <td>...</td>\n",
       "      <td>...</td>\n",
       "      <td>...</td>\n",
       "      <td>...</td>\n",
       "      <td>...</td>\n",
       "      <td>...</td>\n",
       "      <td>...</td>\n",
       "      <td>...</td>\n",
       "    </tr>\n",
       "    <tr>\n",
       "      <th>NG-87</th>\n",
       "      <td>0.0</td>\n",
       "      <td>0.000000</td>\n",
       "      <td>0.000000</td>\n",
       "      <td>0.000000</td>\n",
       "      <td>0.000000</td>\n",
       "      <td>21276.595745</td>\n",
       "      <td>20408.163265</td>\n",
       "      <td>0.000000</td>\n",
       "      <td>24390.243902</td>\n",
       "      <td>0.000000</td>\n",
       "      <td>...</td>\n",
       "      <td>0.0</td>\n",
       "      <td>0.0</td>\n",
       "      <td>0.0</td>\n",
       "      <td>28571.428571</td>\n",
       "      <td>0.000000</td>\n",
       "      <td>0.000000</td>\n",
       "      <td>0.000000</td>\n",
       "      <td>0.000000</td>\n",
       "      <td>22727.272727</td>\n",
       "      <td>25641.025641</td>\n",
       "    </tr>\n",
       "    <tr>\n",
       "      <th>NG-88</th>\n",
       "      <td>62500.0</td>\n",
       "      <td>0.000000</td>\n",
       "      <td>0.000000</td>\n",
       "      <td>0.000000</td>\n",
       "      <td>23255.813953</td>\n",
       "      <td>0.000000</td>\n",
       "      <td>0.000000</td>\n",
       "      <td>0.000000</td>\n",
       "      <td>24390.243902</td>\n",
       "      <td>18867.924528</td>\n",
       "      <td>...</td>\n",
       "      <td>0.0</td>\n",
       "      <td>25000.0</td>\n",
       "      <td>0.0</td>\n",
       "      <td>0.000000</td>\n",
       "      <td>23255.813953</td>\n",
       "      <td>21739.130435</td>\n",
       "      <td>0.000000</td>\n",
       "      <td>34482.758621</td>\n",
       "      <td>22727.272727</td>\n",
       "      <td>0.000000</td>\n",
       "    </tr>\n",
       "    <tr>\n",
       "      <th>NG-89</th>\n",
       "      <td>0.0</td>\n",
       "      <td>0.000000</td>\n",
       "      <td>0.000000</td>\n",
       "      <td>0.000000</td>\n",
       "      <td>0.000000</td>\n",
       "      <td>0.000000</td>\n",
       "      <td>20408.163265</td>\n",
       "      <td>24390.243902</td>\n",
       "      <td>24390.243902</td>\n",
       "      <td>0.000000</td>\n",
       "      <td>...</td>\n",
       "      <td>0.0</td>\n",
       "      <td>0.0</td>\n",
       "      <td>0.0</td>\n",
       "      <td>0.000000</td>\n",
       "      <td>0.000000</td>\n",
       "      <td>0.000000</td>\n",
       "      <td>0.000000</td>\n",
       "      <td>0.000000</td>\n",
       "      <td>0.000000</td>\n",
       "      <td>0.000000</td>\n",
       "    </tr>\n",
       "    <tr>\n",
       "      <th>NG-9</th>\n",
       "      <td>0.0</td>\n",
       "      <td>23255.813953</td>\n",
       "      <td>21739.130435</td>\n",
       "      <td>0.000000</td>\n",
       "      <td>0.000000</td>\n",
       "      <td>0.000000</td>\n",
       "      <td>0.000000</td>\n",
       "      <td>24390.243902</td>\n",
       "      <td>24390.243902</td>\n",
       "      <td>0.000000</td>\n",
       "      <td>...</td>\n",
       "      <td>0.0</td>\n",
       "      <td>0.0</td>\n",
       "      <td>0.0</td>\n",
       "      <td>28571.428571</td>\n",
       "      <td>0.000000</td>\n",
       "      <td>0.000000</td>\n",
       "      <td>25641.025641</td>\n",
       "      <td>34482.758621</td>\n",
       "      <td>22727.272727</td>\n",
       "      <td>0.000000</td>\n",
       "    </tr>\n",
       "    <tr>\n",
       "      <th>NG-90</th>\n",
       "      <td>0.0</td>\n",
       "      <td>0.000000</td>\n",
       "      <td>0.000000</td>\n",
       "      <td>0.000000</td>\n",
       "      <td>0.000000</td>\n",
       "      <td>42553.191489</td>\n",
       "      <td>20408.163265</td>\n",
       "      <td>24390.243902</td>\n",
       "      <td>0.000000</td>\n",
       "      <td>0.000000</td>\n",
       "      <td>...</td>\n",
       "      <td>0.0</td>\n",
       "      <td>0.0</td>\n",
       "      <td>0.0</td>\n",
       "      <td>57142.857143</td>\n",
       "      <td>23255.813953</td>\n",
       "      <td>0.000000</td>\n",
       "      <td>0.000000</td>\n",
       "      <td>68965.517241</td>\n",
       "      <td>22727.272727</td>\n",
       "      <td>0.000000</td>\n",
       "    </tr>\n",
       "  </tbody>\n",
       "</table>\n",
       "<p>100 rows × 50 columns</p>\n",
       "</div>"
      ],
      "text/plain": [
       "        Cell-4        Cell-7        Cell-8       Cell-12       Cell-15  \\\n",
       "gene                                                                     \n",
       "MT-1       0.0      0.000000  21739.130435      0.000000      0.000000   \n",
       "MT-10      0.0      0.000000      0.000000  41666.666667  23255.813953   \n",
       "MT-2       0.0      0.000000      0.000000      0.000000      0.000000   \n",
       "MT-3       0.0      0.000000  43478.260870      0.000000      0.000000   \n",
       "MT-4       0.0      0.000000      0.000000      0.000000      0.000000   \n",
       "...        ...           ...           ...           ...           ...   \n",
       "NG-87      0.0      0.000000      0.000000      0.000000      0.000000   \n",
       "NG-88  62500.0      0.000000      0.000000      0.000000  23255.813953   \n",
       "NG-89      0.0      0.000000      0.000000      0.000000      0.000000   \n",
       "NG-9       0.0  23255.813953  21739.130435      0.000000      0.000000   \n",
       "NG-90      0.0      0.000000      0.000000      0.000000      0.000000   \n",
       "\n",
       "            Cell-17       Cell-20       Cell-21       Cell-26       Cell-35  \\\n",
       "gene                                                                          \n",
       "MT-1       0.000000      0.000000      0.000000      0.000000      0.000000   \n",
       "MT-10  63829.787234      0.000000      0.000000      0.000000      0.000000   \n",
       "MT-2       0.000000      0.000000      0.000000      0.000000      0.000000   \n",
       "MT-3       0.000000  40816.326531  24390.243902      0.000000  37735.849057   \n",
       "MT-4       0.000000      0.000000      0.000000      0.000000  18867.924528   \n",
       "...             ...           ...           ...           ...           ...   \n",
       "NG-87  21276.595745  20408.163265      0.000000  24390.243902      0.000000   \n",
       "NG-88      0.000000      0.000000      0.000000  24390.243902  18867.924528   \n",
       "NG-89      0.000000  20408.163265  24390.243902  24390.243902      0.000000   \n",
       "NG-9       0.000000      0.000000  24390.243902  24390.243902      0.000000   \n",
       "NG-90  42553.191489  20408.163265  24390.243902      0.000000      0.000000   \n",
       "\n",
       "       ...  Cell-87  Cell-90  Cell-91       Cell-93       Cell-94  \\\n",
       "gene   ...                                                          \n",
       "MT-1   ...      0.0      0.0      0.0      0.000000      0.000000   \n",
       "MT-10  ...      0.0  25000.0      0.0      0.000000      0.000000   \n",
       "MT-2   ...      0.0      0.0      0.0      0.000000      0.000000   \n",
       "MT-3   ...      0.0      0.0      0.0      0.000000      0.000000   \n",
       "MT-4   ...      0.0      0.0      0.0      0.000000  46511.627907   \n",
       "...    ...      ...      ...      ...           ...           ...   \n",
       "NG-87  ...      0.0      0.0      0.0  28571.428571      0.000000   \n",
       "NG-88  ...      0.0  25000.0      0.0      0.000000  23255.813953   \n",
       "NG-89  ...      0.0      0.0      0.0      0.000000      0.000000   \n",
       "NG-9   ...      0.0      0.0      0.0  28571.428571      0.000000   \n",
       "NG-90  ...      0.0      0.0      0.0  57142.857143  23255.813953   \n",
       "\n",
       "            Cell-96       Cell-97       Cell-98       Cell-99      Cell-100  \n",
       "gene                                                                         \n",
       "MT-1       0.000000  51282.051282      0.000000      0.000000      0.000000  \n",
       "MT-10      0.000000      0.000000      0.000000  45454.545455      0.000000  \n",
       "MT-2       0.000000      0.000000      0.000000      0.000000      0.000000  \n",
       "MT-3       0.000000  25641.025641      0.000000      0.000000      0.000000  \n",
       "MT-4       0.000000      0.000000      0.000000  22727.272727      0.000000  \n",
       "...             ...           ...           ...           ...           ...  \n",
       "NG-87      0.000000      0.000000      0.000000  22727.272727  25641.025641  \n",
       "NG-88  21739.130435      0.000000  34482.758621  22727.272727      0.000000  \n",
       "NG-89      0.000000      0.000000      0.000000      0.000000      0.000000  \n",
       "NG-9       0.000000  25641.025641  34482.758621  22727.272727      0.000000  \n",
       "NG-90      0.000000      0.000000  68965.517241  22727.272727      0.000000  \n",
       "\n",
       "[100 rows x 50 columns]"
      ]
     },
     "execution_count": 7,
     "metadata": {},
     "output_type": "execute_result"
    }
   ],
   "source": [
    "# inspect the results\n",
    "net.QC_dict[\"X\"]"
   ]
  },
  {
   "cell_type": "code",
   "execution_count": null,
   "id": "588a689f-1807-42a5-9965-bbde7c696009",
   "metadata": {},
   "outputs": [],
   "source": [
    "net.run_step(\"nc\")"
   ]
  },
  {
   "cell_type": "code",
   "execution_count": null,
   "id": "24fd31d5-ffe7-4113-8c0f-8736530b53a3",
   "metadata": {},
   "outputs": [],
   "source": [
    "net.network_dict[\"X\"]"
   ]
  },
  {
   "cell_type": "code",
   "execution_count": null,
   "id": "26e619d2-0dfb-4a96-a001-b2b884c24b09",
   "metadata": {},
   "outputs": [],
   "source": [
    "net.run_step(\"td\")"
   ]
  },
  {
   "cell_type": "code",
   "execution_count": null,
   "id": "512a1503-0e67-44f7-a3cc-36ed613a0eab",
   "metadata": {},
   "outputs": [],
   "source": [
    "net.tensor_dict[\"X\"]"
   ]
  },
  {
   "cell_type": "code",
   "execution_count": null,
   "id": "57a11082-71f4-45e1-8fe5-d4b86176e436",
   "metadata": {},
   "outputs": [],
   "source": [
    "net.run_step(\"md\")"
   ]
  },
  {
   "cell_type": "code",
   "execution_count": null,
   "id": "e2d41615-8bd9-475c-b2eb-dd6a73c65678",
   "metadata": {},
   "outputs": [],
   "source": [
    "net.manifold"
   ]
  },
  {
   "cell_type": "code",
   "execution_count": null,
   "id": "f3ab1fae-3a22-4afe-abc0-c5a7eeed08ac",
   "metadata": {},
   "outputs": [],
   "source": [
    "net.run_step(\"dr\")"
   ]
  },
  {
   "cell_type": "code",
   "execution_count": null,
   "id": "3a6beb24-0ff4-4289-a95d-d0238dd7d14e",
   "metadata": {},
   "outputs": [],
   "source": [
    "net.d_regulation"
   ]
  },
  {
   "cell_type": "markdown",
   "id": "e4412ea2-729a-4f53-b348-ac3a08d2cccf",
   "metadata": {},
   "source": [
    "### Save outputed objects: pcNets, tensor decompositions, manifold alignments, regulation dataframe"
   ]
  },
  {
   "cell_type": "code",
   "execution_count": 9,
   "id": "cfac57b7-3c20-463e-a42a-c8a16794b01d",
   "metadata": {},
   "outputs": [
    {
     "name": "stdout",
     "output_type": "stream",
     "text": [
      "X.csv has been saved successfully.\n",
      "Y.csv has been saved successfully.\n"
     ]
    }
   ],
   "source": [
    "net.save(\"./path\")"
   ]
  },
  {
   "cell_type": "code",
   "execution_count": null,
   "id": "b3d36709-253d-431c-8c55-8dffa4be5c62",
   "metadata": {},
   "outputs": [],
   "source": []
  }
 ],
 "metadata": {
  "kernelspec": {
   "display_name": "Python 3 (ipykernel)",
   "language": "python",
   "name": "python3"
  },
  "language_info": {
   "codemirror_mode": {
    "name": "ipython",
    "version": 3
   },
   "file_extension": ".py",
   "mimetype": "text/x-python",
   "name": "python",
   "nbconvert_exporter": "python",
   "pygments_lexer": "ipython3",
   "version": "3.7.2"
  }
 },
 "nbformat": 4,
 "nbformat_minor": 5
}
