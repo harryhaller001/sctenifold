{
 "cells": [
  {
   "cell_type": "markdown",
   "id": "0947665e-71c9-4eb5-be54-834d922797e4",
   "metadata": {},
   "source": [
    "# Data processing and exploratory analysis"
   ]
  },
  {
   "cell_type": "markdown",
   "id": "2e3f334d-23ac-4c7f-985f-161c34dfa940",
   "metadata": {},
   "source": [
    "### Download and Load ready-to-use data"
   ]
  },
  {
   "cell_type": "code",
   "execution_count": 1,
   "id": "bbd5a197-4526-46f9-8025-418f9d159338",
   "metadata": {},
   "outputs": [],
   "source": [
    "import scTenifold as st\n",
    "from scTenifold.data import list_data, fetch_data"
   ]
  },
  {
   "cell_type": "markdown",
   "id": "471921e3-9359-4e50-930d-2254357c0db4",
   "metadata": {},
   "source": [
    "List all available data"
   ]
  },
  {
   "cell_type": "code",
   "execution_count": 2,
   "id": "c651a883-17e7-458a-9120-5bc8eb7cac1f",
   "metadata": {
    "tags": []
   },
   "outputs": [],
   "source": [
    "list_data()"
   ]
  },
  {
   "cell_type": "markdown",
   "id": "af12e268-8c8f-4276-b182-78fd61d0dbe2",
   "metadata": {},
   "source": [
    "Download and load the specified dataset if it is not in local directory, otherwise just load the dataset"
   ]
  },
  {
   "cell_type": "code",
   "execution_count": null,
   "id": "493f83ab-6cc2-4e66-8bd7-91f76510f3ac",
   "metadata": {},
   "outputs": [],
   "source": [
    "# get dict of data\n",
    "AD_datasets = fetch_data(\"AD\")"
   ]
  },
  {
   "cell_type": "code",
   "execution_count": null,
   "id": "d0dab49d-38c9-43f3-a73e-7fa3d108e5f3",
   "metadata": {},
   "outputs": [],
   "source": [
    "AD_datasets[\"\"]"
   ]
  },
  {
   "cell_type": "markdown",
   "id": "97488c4c-4da5-4eb3-9f37-8b1fa22dbf85",
   "metadata": {},
   "source": [
    "### Data visualization"
   ]
  },
  {
   "cell_type": "code",
   "execution_count": null,
   "id": "65e4047a-1af9-4626-a629-accc34b438db",
   "metadata": {},
   "outputs": [],
   "source": [
    "from scTenifold.plotting import plot_embedding"
   ]
  },
  {
   "cell_type": "code",
   "execution_count": null,
   "id": "77a25910-86dd-46ac-a710-466f41d2740c",
   "metadata": {},
   "outputs": [],
   "source": [
    "plot_embedding(AD_datasets[\"\"])"
   ]
  }
 ],
 "metadata": {
  "kernelspec": {
   "display_name": "Python 3 (ipykernel)",
   "language": "python",
   "name": "python3"
  },
  "language_info": {
   "codemirror_mode": {
    "name": "ipython",
    "version": 3
   },
   "file_extension": ".py",
   "mimetype": "text/x-python",
   "name": "python",
   "nbconvert_exporter": "python",
   "pygments_lexer": "ipython3",
   "version": "3.8.11"
  }
 },
 "nbformat": 4,
 "nbformat_minor": 5
}
