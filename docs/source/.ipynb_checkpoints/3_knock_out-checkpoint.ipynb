{
 "cells": [
  {
   "cell_type": "markdown",
   "id": "26bb7b23-881e-472a-94ed-e5bbae211194",
   "metadata": {},
   "source": [
    "# Performing virtual knock-out on the data"
   ]
  },
  {
   "cell_type": "code",
   "execution_count": null,
   "id": "ff4da64f-9a36-4491-8007-5f25bd53e5ad",
   "metadata": {},
   "outputs": [],
   "source": []
  }
 ],
 "metadata": {
  "kernelspec": {
   "display_name": "Python 3 (ipykernel)",
   "language": "python",
   "name": "python3"
  },
  "language_info": {
   "codemirror_mode": {
    "name": "ipython",
    "version": 3
   },
   "file_extension": ".py",
   "mimetype": "text/x-python",
   "name": "python",
   "nbconvert_exporter": "python",
   "pygments_lexer": "ipython3",
   "version": "3.8.11"
  }
 },
 "nbformat": 4,
 "nbformat_minor": 5
}
